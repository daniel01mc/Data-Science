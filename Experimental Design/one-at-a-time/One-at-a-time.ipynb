{
 "cells": [
  {
   "cell_type": "markdown",
   "metadata": {},
   "source": [
    "#### Define Matrix/DataFrame"
   ]
  },
  {
   "cell_type": "code",
   "execution_count": 62,
   "metadata": {
    "vscode": {
     "languageId": "r"
    }
   },
   "outputs": [
    {
     "data": {
      "text/html": [
       "<table class=\"dataframe\">\n",
       "<caption>A matrix: 6 × 6 of type dbl</caption>\n",
       "<thead>\n",
       "\t<tr><th scope=col>Intercept</th><th scope=col>WingLength</th><th scope=col>BodyLength</th><th scope=col>BodyWidth</th><th scope=col>PaperClip</th><th scope=col>Tape</th></tr>\n",
       "</thead>\n",
       "<tbody>\n",
       "\t<tr><td>1</td><td> 1</td><td> 1</td><td> 1</td><td>-1</td><td>-1</td></tr>\n",
       "\t<tr><td>1</td><td>-1</td><td> 1</td><td> 1</td><td>-1</td><td>-1</td></tr>\n",
       "\t<tr><td>1</td><td> 1</td><td>-1</td><td> 1</td><td>-1</td><td>-1</td></tr>\n",
       "\t<tr><td>1</td><td> 1</td><td> 1</td><td>-1</td><td>-1</td><td>-1</td></tr>\n",
       "\t<tr><td>1</td><td> 1</td><td> 1</td><td> 1</td><td> 1</td><td>-1</td></tr>\n",
       "\t<tr><td>1</td><td> 1</td><td> 1</td><td> 1</td><td>-1</td><td> 1</td></tr>\n",
       "</tbody>\n",
       "</table>\n"
      ],
      "text/latex": [
       "A matrix: 6 × 6 of type dbl\n",
       "\\begin{tabular}{llllll}\n",
       " Intercept & WingLength & BodyLength & BodyWidth & PaperClip & Tape\\\\\n",
       "\\hline\n",
       "\t 1 &  1 &  1 &  1 & -1 & -1\\\\\n",
       "\t 1 & -1 &  1 &  1 & -1 & -1\\\\\n",
       "\t 1 &  1 & -1 &  1 & -1 & -1\\\\\n",
       "\t 1 &  1 &  1 & -1 & -1 & -1\\\\\n",
       "\t 1 &  1 &  1 &  1 &  1 & -1\\\\\n",
       "\t 1 &  1 &  1 &  1 & -1 &  1\\\\\n",
       "\\end{tabular}\n"
      ],
      "text/markdown": [
       "\n",
       "A matrix: 6 × 6 of type dbl\n",
       "\n",
       "| Intercept | WingLength | BodyLength | BodyWidth | PaperClip | Tape |\n",
       "|---|---|---|---|---|---|\n",
       "| 1 |  1 |  1 |  1 | -1 | -1 |\n",
       "| 1 | -1 |  1 |  1 | -1 | -1 |\n",
       "| 1 |  1 | -1 |  1 | -1 | -1 |\n",
       "| 1 |  1 |  1 | -1 | -1 | -1 |\n",
       "| 1 |  1 |  1 |  1 |  1 | -1 |\n",
       "| 1 |  1 |  1 |  1 | -1 |  1 |\n",
       "\n"
      ],
      "text/plain": [
       "     Intercept WingLength BodyLength BodyWidth PaperClip Tape\n",
       "[1,] 1          1          1          1        -1        -1  \n",
       "[2,] 1         -1          1          1        -1        -1  \n",
       "[3,] 1          1         -1          1        -1        -1  \n",
       "[4,] 1          1          1         -1        -1        -1  \n",
       "[5,] 1          1          1          1         1        -1  \n",
       "[6,] 1          1          1          1        -1         1  "
      ]
     },
     "metadata": {},
     "output_type": "display_data"
    }
   ],
   "source": [
    "# Install and load pracma package\n",
    "#if (!require(pracma)) install.packages(\"pracma\")\n",
    "\n",
    "M_1 <- data.frame(\n",
    "    Intercept = rep(1,6),\n",
    "    WingLength =c(1,-1,1,1,1,1),\n",
    "    BodyLength =c(1,1,-1,1,1,1),\n",
    "    BodyWidth = c(1,1,1,-1,1,1),\n",
    "    PaperClip = c(-1,-1,-1,-1,1,-1),\n",
    "    Tape = c(-1,-1,-1,-1,-1,1)\n",
    "\n",
    "\n",
    ")\n",
    "M_1 = as.matrix(M_1)\n",
    "M_1"
   ]
  },
  {
   "cell_type": "markdown",
   "metadata": {},
   "source": [
    "#### Compute RREF and check if its Full Rank"
   ]
  },
  {
   "cell_type": "code",
   "execution_count": 63,
   "metadata": {
    "vscode": {
     "languageId": "r"
    }
   },
   "outputs": [
    {
     "name": "stdout",
     "output_type": "stream",
     "text": [
      "[1] \"--------------- Reduced Row Echelon Form ---------------\"\n",
      "     Intercept WingLength BodyLength BodyWidth PaperClip Tape\n",
      "[1,]         1          0          0         0         0    0\n",
      "[2,]         0          1          0         0         0    0\n",
      "[3,]         0          0          1         0         0    0\n",
      "[4,]         0          0          0         1         0    0\n",
      "[5,]         0          0          0         0         1    0\n",
      "[6,]         0          0          0         0         0    1\n",
      "[1] \"Rank of Matrix: 6\"\n"
     ]
    }
   ],
   "source": [
    "M_1_rank <- qr(M_1)$rank\n",
    "\n",
    "\n",
    "\n",
    "rref_M1 <- rref(M_1)\n",
    "print(\"--------------- Reduced Row Echelon Form ---------------\")\n",
    "print(rref_M1)\n",
    "print(paste(\"Rank of Matrix:\",M_1_rank))"
   ]
  },
  {
   "cell_type": "markdown",
   "metadata": {},
   "source": [
    "#### Correlation"
   ]
  },
  {
   "cell_type": "code",
   "execution_count": 64,
   "metadata": {
    "vscode": {
     "languageId": "r"
    }
   },
   "outputs": [
    {
     "name": "stderr",
     "output_type": "stream",
     "text": [
      "Warning message in cor(M_1):\n",
      "\"the standard deviation is zero\"\n"
     ]
    },
    {
     "name": "stdout",
     "output_type": "stream",
     "text": [
      "           Intercept WingLength BodyLength BodyWidth PaperClip Tape\n",
      "Intercept          1         NA         NA        NA        NA   NA\n",
      "WingLength        NA        1.0       -0.2      -0.2       0.2  0.2\n",
      "BodyLength        NA       -0.2        1.0      -0.2       0.2  0.2\n",
      "BodyWidth         NA       -0.2       -0.2       1.0       0.2  0.2\n",
      "PaperClip         NA        0.2        0.2       0.2       1.0 -0.2\n",
      "Tape              NA        0.2        0.2       0.2      -0.2  1.0\n"
     ]
    }
   ],
   "source": [
    "cor_matrix_m1 <- cor(M_1)\n",
    "print(cor_matrix_m1)"
   ]
  },
  {
   "cell_type": "code",
   "execution_count": 65,
   "metadata": {
    "vscode": {
     "languageId": "r"
    }
   },
   "outputs": [
    {
     "data": {
      "image/png": "[encoded data removed]",
      "text/plain": [
       "Plot with title \"\""
      ]
     },
     "metadata": {
      "image/png": {
       "height": 420,
       "width": 420
      }
     },
     "output_type": "display_data"
    }
   ],
   "source": [
    "corrplot(cor_matrix_m1)"
   ]
  }
 ],
 "metadata": {
  "kernelspec": {
   "display_name": "R",
   "language": "R",
   "name": "ir"
  },
  "language_info": {
   "codemirror_mode": "r",
   "file_extension": ".r",
   "mimetype": "text/x-r-source",
   "name": "R",
   "pygments_lexer": "r",
   "version": "4.4.2"
  }
 },
 "nbformat": 4,
 "nbformat_minor": 2
}
