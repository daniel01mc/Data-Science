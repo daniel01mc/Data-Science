{
 "cells": [
  {
   "cell_type": "code",
   "execution_count": 65,
   "metadata": {},
   "outputs": [],
   "source": [
    "from pyDOE2 import bbdesign\n",
    "import pandas as pd\n",
    "import numpy as np\n",
    "import seaborn as sns \n",
    "import matplotlib.pyplot as plt"
   ]
  },
  {
   "cell_type": "markdown",
   "metadata": {},
   "source": [
    "#### Box-Behnken"
   ]
  },
  {
   "cell_type": "code",
   "execution_count": 66,
   "metadata": {},
   "outputs": [],
   "source": [
    "# Define factor levels\n",
    "three_level_factors = {\n",
    "    \"A\": [-1, 0, 1], # WingLength\n",
    "    \"B\": [-1, 0, 1], # BodyLength\n",
    "    \"C\": [-1, 0, 1] # BodyWidth\n",
    "}\n",
    "\n",
    "two_level_factors = {\n",
    "    \"D\": -1,  # -1: No PaperClip\n",
    "    \"E\":-1       # -1: No Tape\n",
    "}"
   ]
  },
  {
   "cell_type": "code",
   "execution_count": 67,
   "metadata": {},
   "outputs": [],
   "source": [
    "bbd_matrix = bbdesign(len(three_level_factors), center=3)"
   ]
  },
  {
   "cell_type": "code",
   "execution_count": 68,
   "metadata": {},
   "outputs": [
    {
     "data": {
      "application/vnd.microsoft.datawrangler.viewer.v0+json": {
       "columns": [
        {
         "name": "index",
         "rawType": "int64",
         "type": "integer"
        },
        {
         "name": "A",
         "rawType": "float64",
         "type": "float"
        },
        {
         "name": "B",
         "rawType": "float64",
         "type": "float"
        },
        {
         "name": "C",
         "rawType": "float64",
         "type": "float"
        }
       ],
       "conversionMethod": "pd.DataFrame",
       "ref": "4204060f-4245-4912-8153-b0b28bb1af52",
       "rows": [
        [
         "0",
         "-1.0",
         "-1.0",
         "0.0"
        ],
        [
         "1",
         "1.0",
         "-1.0",
         "0.0"
        ],
        [
         "2",
         "-1.0",
         "1.0",
         "0.0"
        ],
        [
         "3",
         "1.0",
         "1.0",
         "0.0"
        ],
        [
         "4",
         "-1.0",
         "0.0",
         "-1.0"
        ],
        [
         "5",
         "1.0",
         "0.0",
         "-1.0"
        ],
        [
         "6",
         "-1.0",
         "0.0",
         "1.0"
        ],
        [
         "7",
         "1.0",
         "0.0",
         "1.0"
        ],
        [
         "8",
         "0.0",
         "-1.0",
         "-1.0"
        ],
        [
         "9",
         "0.0",
         "1.0",
         "-1.0"
        ],
        [
         "10",
         "0.0",
         "-1.0",
         "1.0"
        ],
        [
         "11",
         "0.0",
         "1.0",
         "1.0"
        ],
        [
         "12",
         "0.0",
         "0.0",
         "0.0"
        ],
        [
         "13",
         "0.0",
         "0.0",
         "0.0"
        ],
        [
         "14",
         "0.0",
         "0.0",
         "0.0"
        ]
       ],
       "shape": {
        "columns": 3,
        "rows": 15
       }
      },
      "text/html": [
       "<div>\n",
       "<style scoped>\n",
       "    .dataframe tbody tr th:only-of-type {\n",
       "        vertical-align: middle;\n",
       "    }\n",
       "\n",
       "    .dataframe tbody tr th {\n",
       "        vertical-align: top;\n",
       "    }\n",
       "\n",
       "    .dataframe thead th {\n",
       "        text-align: right;\n",
       "    }\n",
       "</style>\n",
       "<table border=\"1\" class=\"dataframe\">\n",
       "  <thead>\n",
       "    <tr style=\"text-align: right;\">\n",
       "      <th></th>\n",
       "      <th>A</th>\n",
       "      <th>B</th>\n",
       "      <th>C</th>\n",
       "    </tr>\n",
       "  </thead>\n",
       "  <tbody>\n",
       "    <tr>\n",
       "      <th>0</th>\n",
       "      <td>-1.0</td>\n",
       "      <td>-1.0</td>\n",
       "      <td>0.0</td>\n",
       "    </tr>\n",
       "    <tr>\n",
       "      <th>1</th>\n",
       "      <td>1.0</td>\n",
       "      <td>-1.0</td>\n",
       "      <td>0.0</td>\n",
       "    </tr>\n",
       "    <tr>\n",
       "      <th>2</th>\n",
       "      <td>-1.0</td>\n",
       "      <td>1.0</td>\n",
       "      <td>0.0</td>\n",
       "    </tr>\n",
       "    <tr>\n",
       "      <th>3</th>\n",
       "      <td>1.0</td>\n",
       "      <td>1.0</td>\n",
       "      <td>0.0</td>\n",
       "    </tr>\n",
       "    <tr>\n",
       "      <th>4</th>\n",
       "      <td>-1.0</td>\n",
       "      <td>0.0</td>\n",
       "      <td>-1.0</td>\n",
       "    </tr>\n",
       "    <tr>\n",
       "      <th>5</th>\n",
       "      <td>1.0</td>\n",
       "      <td>0.0</td>\n",
       "      <td>-1.0</td>\n",
       "    </tr>\n",
       "    <tr>\n",
       "      <th>6</th>\n",
       "      <td>-1.0</td>\n",
       "      <td>0.0</td>\n",
       "      <td>1.0</td>\n",
       "    </tr>\n",
       "    <tr>\n",
       "      <th>7</th>\n",
       "      <td>1.0</td>\n",
       "      <td>0.0</td>\n",
       "      <td>1.0</td>\n",
       "    </tr>\n",
       "    <tr>\n",
       "      <th>8</th>\n",
       "      <td>0.0</td>\n",
       "      <td>-1.0</td>\n",
       "      <td>-1.0</td>\n",
       "    </tr>\n",
       "    <tr>\n",
       "      <th>9</th>\n",
       "      <td>0.0</td>\n",
       "      <td>1.0</td>\n",
       "      <td>-1.0</td>\n",
       "    </tr>\n",
       "    <tr>\n",
       "      <th>10</th>\n",
       "      <td>0.0</td>\n",
       "      <td>-1.0</td>\n",
       "      <td>1.0</td>\n",
       "    </tr>\n",
       "    <tr>\n",
       "      <th>11</th>\n",
       "      <td>0.0</td>\n",
       "      <td>1.0</td>\n",
       "      <td>1.0</td>\n",
       "    </tr>\n",
       "    <tr>\n",
       "      <th>12</th>\n",
       "      <td>0.0</td>\n",
       "      <td>0.0</td>\n",
       "      <td>0.0</td>\n",
       "    </tr>\n",
       "    <tr>\n",
       "      <th>13</th>\n",
       "      <td>0.0</td>\n",
       "      <td>0.0</td>\n",
       "      <td>0.0</td>\n",
       "    </tr>\n",
       "    <tr>\n",
       "      <th>14</th>\n",
       "      <td>0.0</td>\n",
       "      <td>0.0</td>\n",
       "      <td>0.0</td>\n",
       "    </tr>\n",
       "  </tbody>\n",
       "</table>\n",
       "</div>"
      ],
      "text/plain": [
       "      A    B    C\n",
       "0  -1.0 -1.0  0.0\n",
       "1   1.0 -1.0  0.0\n",
       "2  -1.0  1.0  0.0\n",
       "3   1.0  1.0  0.0\n",
       "4  -1.0  0.0 -1.0\n",
       "5   1.0  0.0 -1.0\n",
       "6  -1.0  0.0  1.0\n",
       "7   1.0  0.0  1.0\n",
       "8   0.0 -1.0 -1.0\n",
       "9   0.0  1.0 -1.0\n",
       "10  0.0 -1.0  1.0\n",
       "11  0.0  1.0  1.0\n",
       "12  0.0  0.0  0.0\n",
       "13  0.0  0.0  0.0\n",
       "14  0.0  0.0  0.0"
      ]
     },
     "execution_count": 68,
     "metadata": {},
     "output_type": "execute_result"
    }
   ],
   "source": [
    "bbd_df = pd.DataFrame(bbd_matrix, columns=three_level_factors.keys())\n",
    "\n",
    "bbd_df"
   ]
  },
  {
   "cell_type": "code",
   "execution_count": 69,
   "metadata": {},
   "outputs": [
    {
     "data": {
      "application/vnd.microsoft.datawrangler.viewer.v0+json": {
       "columns": [
        {
         "name": "index",
         "rawType": "int64",
         "type": "integer"
        },
        {
         "name": "A",
         "rawType": "float64",
         "type": "float"
        },
        {
         "name": "B",
         "rawType": "float64",
         "type": "float"
        },
        {
         "name": "C",
         "rawType": "float64",
         "type": "float"
        }
       ],
       "conversionMethod": "pd.DataFrame",
       "ref": "68442774-8196-4570-baa2-304a62269d40",
       "rows": [
        [
         "0",
         "-1.0",
         "-1.0",
         "0.0"
        ],
        [
         "1",
         "1.0",
         "-1.0",
         "0.0"
        ],
        [
         "2",
         "-1.0",
         "1.0",
         "0.0"
        ],
        [
         "3",
         "1.0",
         "1.0",
         "0.0"
        ],
        [
         "4",
         "-1.0",
         "0.0",
         "-1.0"
        ],
        [
         "5",
         "1.0",
         "0.0",
         "-1.0"
        ],
        [
         "6",
         "-1.0",
         "0.0",
         "1.0"
        ],
        [
         "7",
         "1.0",
         "0.0",
         "1.0"
        ],
        [
         "8",
         "0.0",
         "-1.0",
         "-1.0"
        ],
        [
         "9",
         "0.0",
         "1.0",
         "-1.0"
        ],
        [
         "10",
         "0.0",
         "-1.0",
         "1.0"
        ],
        [
         "11",
         "0.0",
         "1.0",
         "1.0"
        ],
        [
         "12",
         "0.0",
         "0.0",
         "0.0"
        ],
        [
         "13",
         "0.0",
         "0.0",
         "0.0"
        ],
        [
         "14",
         "0.0",
         "0.0",
         "0.0"
        ]
       ],
       "shape": {
        "columns": 3,
        "rows": 15
       }
      },
      "text/html": [
       "<div>\n",
       "<style scoped>\n",
       "    .dataframe tbody tr th:only-of-type {\n",
       "        vertical-align: middle;\n",
       "    }\n",
       "\n",
       "    .dataframe tbody tr th {\n",
       "        vertical-align: top;\n",
       "    }\n",
       "\n",
       "    .dataframe thead th {\n",
       "        text-align: right;\n",
       "    }\n",
       "</style>\n",
       "<table border=\"1\" class=\"dataframe\">\n",
       "  <thead>\n",
       "    <tr style=\"text-align: right;\">\n",
       "      <th></th>\n",
       "      <th>A</th>\n",
       "      <th>B</th>\n",
       "      <th>C</th>\n",
       "    </tr>\n",
       "  </thead>\n",
       "  <tbody>\n",
       "    <tr>\n",
       "      <th>0</th>\n",
       "      <td>-1.0</td>\n",
       "      <td>-1.0</td>\n",
       "      <td>0.0</td>\n",
       "    </tr>\n",
       "    <tr>\n",
       "      <th>1</th>\n",
       "      <td>1.0</td>\n",
       "      <td>-1.0</td>\n",
       "      <td>0.0</td>\n",
       "    </tr>\n",
       "    <tr>\n",
       "      <th>2</th>\n",
       "      <td>-1.0</td>\n",
       "      <td>1.0</td>\n",
       "      <td>0.0</td>\n",
       "    </tr>\n",
       "    <tr>\n",
       "      <th>3</th>\n",
       "      <td>1.0</td>\n",
       "      <td>1.0</td>\n",
       "      <td>0.0</td>\n",
       "    </tr>\n",
       "    <tr>\n",
       "      <th>4</th>\n",
       "      <td>-1.0</td>\n",
       "      <td>0.0</td>\n",
       "      <td>-1.0</td>\n",
       "    </tr>\n",
       "    <tr>\n",
       "      <th>5</th>\n",
       "      <td>1.0</td>\n",
       "      <td>0.0</td>\n",
       "      <td>-1.0</td>\n",
       "    </tr>\n",
       "    <tr>\n",
       "      <th>6</th>\n",
       "      <td>-1.0</td>\n",
       "      <td>0.0</td>\n",
       "      <td>1.0</td>\n",
       "    </tr>\n",
       "    <tr>\n",
       "      <th>7</th>\n",
       "      <td>1.0</td>\n",
       "      <td>0.0</td>\n",
       "      <td>1.0</td>\n",
       "    </tr>\n",
       "    <tr>\n",
       "      <th>8</th>\n",
       "      <td>0.0</td>\n",
       "      <td>-1.0</td>\n",
       "      <td>-1.0</td>\n",
       "    </tr>\n",
       "    <tr>\n",
       "      <th>9</th>\n",
       "      <td>0.0</td>\n",
       "      <td>1.0</td>\n",
       "      <td>-1.0</td>\n",
       "    </tr>\n",
       "    <tr>\n",
       "      <th>10</th>\n",
       "      <td>0.0</td>\n",
       "      <td>-1.0</td>\n",
       "      <td>1.0</td>\n",
       "    </tr>\n",
       "    <tr>\n",
       "      <th>11</th>\n",
       "      <td>0.0</td>\n",
       "      <td>1.0</td>\n",
       "      <td>1.0</td>\n",
       "    </tr>\n",
       "    <tr>\n",
       "      <th>12</th>\n",
       "      <td>0.0</td>\n",
       "      <td>0.0</td>\n",
       "      <td>0.0</td>\n",
       "    </tr>\n",
       "    <tr>\n",
       "      <th>13</th>\n",
       "      <td>0.0</td>\n",
       "      <td>0.0</td>\n",
       "      <td>0.0</td>\n",
       "    </tr>\n",
       "    <tr>\n",
       "      <th>14</th>\n",
       "      <td>0.0</td>\n",
       "      <td>0.0</td>\n",
       "      <td>0.0</td>\n",
       "    </tr>\n",
       "  </tbody>\n",
       "</table>\n",
       "</div>"
      ],
      "text/plain": [
       "      A    B    C\n",
       "0  -1.0 -1.0  0.0\n",
       "1   1.0 -1.0  0.0\n",
       "2  -1.0  1.0  0.0\n",
       "3   1.0  1.0  0.0\n",
       "4  -1.0  0.0 -1.0\n",
       "5   1.0  0.0 -1.0\n",
       "6  -1.0  0.0  1.0\n",
       "7   1.0  0.0  1.0\n",
       "8   0.0 -1.0 -1.0\n",
       "9   0.0  1.0 -1.0\n",
       "10  0.0 -1.0  1.0\n",
       "11  0.0  1.0  1.0\n",
       "12  0.0  0.0  0.0\n",
       "13  0.0  0.0  0.0\n",
       "14  0.0  0.0  0.0"
      ]
     },
     "execution_count": 69,
     "metadata": {},
     "output_type": "execute_result"
    }
   ],
   "source": [
    "#bbd_df = bbd_df.assign(**two_level_factors)\n",
    "bbd_df"
   ]
  },
  {
   "cell_type": "code",
   "execution_count": 70,
   "metadata": {},
   "outputs": [
    {
     "name": "stdout",
     "output_type": "stream",
     "text": [
      "              A             B             C\n",
      "A  1.000000e+00 -2.775558e-17 -1.001484e-33\n",
      "B -2.775558e-17  1.000000e+00  0.000000e+00\n",
      "C -1.001484e-33  0.000000e+00  1.000000e+00\n"
     ]
    }
   ],
   "source": [
    "print(bbd_df.corr())"
   ]
  },
  {
   "cell_type": "code",
   "execution_count": 71,
   "metadata": {},
   "outputs": [
    {
     "data": {
      "image/png": "[encoded data removed]",
      "text/plain": [
       "<Figure size 640x480 with 2 Axes>"
      ]
     },
     "metadata": {},
     "output_type": "display_data"
    }
   ],
   "source": [
    "sns.heatmap(bbd_df.corr(), annot=False, cmap=\"coolwarm\",  linewidths=0.5)\n",
    "plt.title(\"Corrlation Matrix Box-Behnken \")\n",
    "plt.show()"
   ]
  },
  {
   "cell_type": "code",
   "execution_count": 72,
   "metadata": {},
   "outputs": [
    {
     "name": "stdout",
     "output_type": "stream",
     "text": [
      "      A    B  C\n",
      "0   6.5  6.5  5\n",
      "1   9.5  6.5  5\n",
      "2   6.5  9.5  5\n",
      "3   9.5  9.5  5\n",
      "4   6.5  8.0  4\n",
      "5   9.5  8.0  4\n",
      "6   6.5  8.0  6\n",
      "7   9.5  8.0  6\n",
      "8   8.0  6.5  4\n",
      "9   8.0  9.5  4\n",
      "10  8.0  6.5  6\n",
      "11  8.0  9.5  6\n",
      "12  8.0  8.0  5\n",
      "13  8.0  8.0  5\n",
      "14  8.0  8.0  5\n"
     ]
    }
   ],
   "source": [
    "actual_values = {\n",
    "    \"A\": { -1: 6.5, 0: 8, 1: 9.5 },\n",
    "    \"B\": { -1: 6.5, 0: 8, 1: 9.5 },\n",
    "    \"C\": { -1: 4, 0: 5, 1: 6 }\n",
    "}\n",
    "\n",
    "for col in three_level_factors:\n",
    "    bbd_df[col] = bbd_df[col].map(actual_values[col])\n",
    "\n",
    "print(bbd_df)"
   ]
  },
  {
   "cell_type": "code",
   "execution_count": 73,
   "metadata": {},
   "outputs": [
    {
     "name": "stdout",
     "output_type": "stream",
     "text": [
      "      A    B  C\n",
      "0   9.5  8.0  6\n",
      "1   8.0  6.5  6\n",
      "2   6.5  8.0  4\n",
      "3   6.5  6.5  5\n",
      "4   9.5  8.0  4\n",
      "5   8.0  9.5  4\n",
      "6   8.0  6.5  4\n",
      "7   8.0  9.5  6\n",
      "8   9.5  9.5  5\n",
      "9   9.5  6.5  5\n",
      "10  6.5  8.0  6\n",
      "11  8.0  8.0  5\n",
      "12  6.5  9.5  5\n",
      "13  8.0  8.0  5\n",
      "14  8.0  8.0  5\n"
     ]
    }
   ],
   "source": [
    "random_order = bbd_df.sample(frac = 1, random_state=123).reset_index(drop=True)\n",
    "print(random_order)"
   ]
  }
 ],
 "metadata": {
  "kernelspec": {
   "display_name": ".experimental_d",
   "language": "python",
   "name": "python3"
  },
  "language_info": {
   "codemirror_mode": {
    "name": "ipython",
    "version": 3
   },
   "file_extension": ".py",
   "mimetype": "text/x-python",
   "name": "python",
   "nbconvert_exporter": "python",
   "pygments_lexer": "ipython3",
   "version": "3.10.11"
  }
 },
 "nbformat": 4,
 "nbformat_minor": 2
}
